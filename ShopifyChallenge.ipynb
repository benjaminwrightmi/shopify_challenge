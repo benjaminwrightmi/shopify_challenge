{
 "cells": [
  {
   "cell_type": "markdown",
   "id": "supposed-justice",
   "metadata": {},
   "source": [
    "# Shopify Fall 2021 Data Science Intern Challenge"
   ]
  },
  {
   "cell_type": "markdown",
   "id": "french-reply",
   "metadata": {},
   "source": [
    "## Question 1\n",
    "As a first step I will read the data and plot the variable of interest for this problem, the order value."
   ]
  },
  {
   "cell_type": "code",
   "execution_count": 2,
   "id": "motivated-coach",
   "metadata": {},
   "outputs": [],
   "source": [
    "import pandas as pd\n",
    "import numpy as np\n",
    "import matplotlib.pyplot as plt\n",
    "import scipy.stats as st\n",
    "ifig = 0"
   ]
  },
  {
   "cell_type": "code",
   "execution_count": 3,
   "id": "elementary-monday",
   "metadata": {},
   "outputs": [
    {
     "data": {
      "text/html": [
       "<div>\n",
       "<style scoped>\n",
       "    .dataframe tbody tr th:only-of-type {\n",
       "        vertical-align: middle;\n",
       "    }\n",
       "\n",
       "    .dataframe tbody tr th {\n",
       "        vertical-align: top;\n",
       "    }\n",
       "\n",
       "    .dataframe thead th {\n",
       "        text-align: right;\n",
       "    }\n",
       "</style>\n",
       "<table border=\"1\" class=\"dataframe\">\n",
       "  <thead>\n",
       "    <tr style=\"text-align: right;\">\n",
       "      <th></th>\n",
       "      <th>order_id</th>\n",
       "      <th>shop_id</th>\n",
       "      <th>user_id</th>\n",
       "      <th>order_amount</th>\n",
       "      <th>total_items</th>\n",
       "      <th>payment_method</th>\n",
       "      <th>created_at</th>\n",
       "    </tr>\n",
       "  </thead>\n",
       "  <tbody>\n",
       "    <tr>\n",
       "      <th>0</th>\n",
       "      <td>1</td>\n",
       "      <td>53</td>\n",
       "      <td>746</td>\n",
       "      <td>224</td>\n",
       "      <td>2</td>\n",
       "      <td>cash</td>\n",
       "      <td>2017-03-13 12:36:56</td>\n",
       "    </tr>\n",
       "    <tr>\n",
       "      <th>1</th>\n",
       "      <td>2</td>\n",
       "      <td>92</td>\n",
       "      <td>925</td>\n",
       "      <td>90</td>\n",
       "      <td>1</td>\n",
       "      <td>cash</td>\n",
       "      <td>2017-03-03 17:38:52</td>\n",
       "    </tr>\n",
       "    <tr>\n",
       "      <th>2</th>\n",
       "      <td>3</td>\n",
       "      <td>44</td>\n",
       "      <td>861</td>\n",
       "      <td>144</td>\n",
       "      <td>1</td>\n",
       "      <td>cash</td>\n",
       "      <td>2017-03-14 4:23:56</td>\n",
       "    </tr>\n",
       "    <tr>\n",
       "      <th>3</th>\n",
       "      <td>4</td>\n",
       "      <td>18</td>\n",
       "      <td>935</td>\n",
       "      <td>156</td>\n",
       "      <td>1</td>\n",
       "      <td>credit_card</td>\n",
       "      <td>2017-03-26 12:43:37</td>\n",
       "    </tr>\n",
       "    <tr>\n",
       "      <th>4</th>\n",
       "      <td>5</td>\n",
       "      <td>18</td>\n",
       "      <td>883</td>\n",
       "      <td>156</td>\n",
       "      <td>1</td>\n",
       "      <td>credit_card</td>\n",
       "      <td>2017-03-01 4:35:11</td>\n",
       "    </tr>\n",
       "  </tbody>\n",
       "</table>\n",
       "</div>"
      ],
      "text/plain": [
       "   order_id  shop_id  user_id  order_amount  total_items payment_method  \\\n",
       "0         1       53      746           224            2           cash   \n",
       "1         2       92      925            90            1           cash   \n",
       "2         3       44      861           144            1           cash   \n",
       "3         4       18      935           156            1    credit_card   \n",
       "4         5       18      883           156            1    credit_card   \n",
       "\n",
       "            created_at  \n",
       "0  2017-03-13 12:36:56  \n",
       "1  2017-03-03 17:38:52  \n",
       "2   2017-03-14 4:23:56  \n",
       "3  2017-03-26 12:43:37  \n",
       "4   2017-03-01 4:35:11  "
      ]
     },
     "execution_count": 3,
     "metadata": {},
     "output_type": "execute_result"
    }
   ],
   "source": [
    "# Read Data\n",
    "data = pd.read_csv(\"ShopifyChallenge.csv\")\n",
    "order_amts = data['order_amount']\n",
    "data.head()\n"
   ]
  },
  {
   "cell_type": "code",
   "execution_count": 14,
   "id": "incorporated-commission",
   "metadata": {},
   "outputs": [
    {
     "data": {
      "image/png": "[encoded data removed]",
      "text/plain": [
       "<Figure size 720x432 with 1 Axes>"
      ]
     },
     "metadata": {
      "needs_background": "light"
     },
     "output_type": "display_data"
    }
   ],
   "source": [
    "#Plotting order amounts\n",
    "plt.close(ifig); plt.figure(ifig, figsize=(10,6)); ifig+=1;\n",
    "plt.hist(order_amts, bins = 20)\n",
    "plt.show()"
   ]
  },
  {
   "cell_type": "code",
   "execution_count": 15,
   "id": "superior-photography",
   "metadata": {},
   "outputs": [
    {
     "data": {
      "image/png": "[encoded data removed]",
      "text/plain": [
       "<Figure size 720x432 with 1 Axes>"
      ]
     },
     "metadata": {
      "needs_background": "light"
     },
     "output_type": "display_data"
    }
   ],
   "source": [
    "# Changing the range reveals another layer of outliers\n",
    "plt.close(ifig); plt.figure(ifig, figsize=(10,6)); ifig+=1;\n",
    "plt.hist(order_amts, bins = np.arange(0,100000,2000))\n",
    "plt.show()"
   ]
  },
  {
   "cell_type": "code",
   "execution_count": 17,
   "id": "exceptional-expense",
   "metadata": {},
   "outputs": [
    {
     "data": {
      "image/png": "[encoded data removed]",
      "text/plain": [
       "<Figure size 720x432 with 1 Axes>"
      ]
     },
     "metadata": {
      "needs_background": "light"
     },
     "output_type": "display_data"
    }
   ],
   "source": [
    "# Finally, the \"meat\" of the distribution\n",
    "plt.close(ifig); plt.figure(ifig, figsize=(10,6)); ifig+=1;\n",
    "plt.hist(order_amts, bins = np.arange(0,3000,50))\n",
    "plt.show()"
   ]
  },
  {
   "cell_type": "markdown",
   "id": "silver-logan",
   "metadata": {},
   "source": [
    "Clearly there are some very strong outliers in this data, which are artificially inflating the AOV. There are many methods of mitigating the effect of such outliers. I could take a simple median (shown below), however the median is best employed in symmetric data otherwise it misses important data in the tail of the distribution. As a result I will instead attempt to remove the outliers and then compute the mean. I do so using a common threshold for identifying extreme outliers using the interquartile range given by:\n",
    "\n",
    "$$ Q_3 + 6*(Q_3 - Q_1) $$\n",
    "\n",
    "where $Q_3$ is the 75th percentile and $Q_1$ is the 25th."
   ]
  },
  {
   "cell_type": "code",
   "execution_count": 9,
   "id": "developing-visit",
   "metadata": {},
   "outputs": [
    {
     "data": {
      "text/plain": [
       "284.0"
      ]
     },
     "execution_count": 9,
     "metadata": {},
     "output_type": "execute_result"
    }
   ],
   "source": [
    "#Computing the median\n",
    "np.median(order_amts)"
   ]
  },
  {
   "cell_type": "code",
   "execution_count": 18,
   "id": "another-fifteen",
   "metadata": {},
   "outputs": [
    {
     "name": "stdout",
     "output_type": "stream",
     "text": [
      "1752.0\n"
     ]
    }
   ],
   "source": [
    "# Computing the threshold for outlier removal\n",
    "iqr = st.iqr(order_amts)\n",
    "thresh = iqr*6 + np.percentile(order_amts,75)\n",
    "print(thresh)"
   ]
  },
  {
   "cell_type": "code",
   "execution_count": 37,
   "id": "naval-packaging",
   "metadata": {},
   "outputs": [
    {
     "data": {
      "text/plain": [
       "302.2852512155592"
      ]
     },
     "execution_count": 37,
     "metadata": {},
     "output_type": "execute_result"
    }
   ],
   "source": [
    "# Computing the mean of the outlier-removed data\n",
    "mask = order_amts < iqr_plus_75th\n",
    "np.mean(order_amts[mask])"
   ]
  },
  {
   "cell_type": "markdown",
   "id": "objective-hartford",
   "metadata": {},
   "source": [
    "This outlier removal gives a threshold of 1752, which by visual inspection of the data is very reasonable! The **AOV with outliers removed** is then: **$302.28**."
   ]
  },
  {
   "cell_type": "markdown",
   "id": "artificial-going",
   "metadata": {},
   "source": [
    "## Question 2"
   ]
  },
  {
   "cell_type": "markdown",
   "id": "institutional-television",
   "metadata": {},
   "source": [
    "1. Join shipper information with order information by matching shipper IDs, count the instances of Speedy Express:\n",
    "\n",
    "```sql\n",
    "SELECT COUNT(ShipperName) \n",
    "FROM Orders INNER JOIN Shippers ON Orders.ShipperID = Shippers.ShipperID \n",
    "WHERE ShipperName = 'Speedy Express';\n",
    "```\n",
    "\n",
    "2. Join employee information with order information by matching employee IDs, count orders by employee by last name, and select the top one when ordered descending:\n",
    "\n",
    "```sql\n",
    "SELECT TOP 1 LastName \n",
    "FROM Orders INNER JOIN Employees ON Orders.EmployeeID = Employees.EmployeeID \n",
    "GROUP BY LastName \n",
    "ORDER BY Count(LastName) DESC;\n",
    "```\n",
    "\n",
    "3. Join orders with order details (gives product IDs) and customers (gives country) by order ID and customer ID, then join with products by product ID. This gives all the information needed. Make sure country is Germany, then count product names and select the top one when ordered descending.\n",
    "\n",
    "```sql\n",
    "SELECT TOP 1 ProductName \n",
    "FROM (((Orders INNER JOIN OrderDetails ON Orders.OrderID = OrderDetails.OrderID) \n",
    "       INNER JOIN Customers ON Orders.CustomerID = Customers.CustomerID) \n",
    "      INNER JOIN Products ON Products.ProductID = OrderDetails.ProductID) \n",
    "WHERE Country = 'Germany' \n",
    "GROUP BY ProductName \n",
    "ORDER BY COUNT(ProductName) DESC\n",
    "```\n"
   ]
  }
 ],
 "metadata": {
  "kernelspec": {
   "display_name": "Python 3",
   "language": "python",
   "name": "python3"
  },
  "language_info": {
   "codemirror_mode": {
    "name": "ipython",
    "version": 3
   },
   "file_extension": ".py",
   "mimetype": "text/x-python",
   "name": "python",
   "nbconvert_exporter": "python",
   "pygments_lexer": "ipython3",
   "version": "3.9.1"
  }
 },
 "nbformat": 4,
 "nbformat_minor": 5
}
